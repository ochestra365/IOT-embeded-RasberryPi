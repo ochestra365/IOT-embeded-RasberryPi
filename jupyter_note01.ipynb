{
 "metadata": {
  "language_info": {
   "codemirror_mode": {
    "name": "ipython",
    "version": 3
   },
   "file_extension": ".py",
   "mimetype": "text/x-python",
   "name": "python",
   "nbconvert_exporter": "python",
   "pygments_lexer": "ipython3",
   "version": "3.7.3"
  },
  "orig_nbformat": 4,
  "kernelspec": {
   "name": "python3",
   "display_name": "Python 3.7.3 32-bit"
  },
  "interpreter": {
   "hash": "767d51c1340bd893661ea55ea3124f6de3c7a262a8b4abca0554b478b1e2ff90"
  }
 },
 "nbformat": 4,
 "nbformat_minor": 2,
 "cells": [
  {
   "cell_type": "code",
   "execution_count": 5,
   "metadata": {},
   "outputs": [
    {
     "output_type": "stream",
     "name": "stdout",
     "text": [
      "3.5999999999999996 = 1.2*3\nPark\n"
     ]
    },
    {
     "output_type": "execute_result",
     "data": {
      "text/plain": [
       "'Hello WorldHello World'"
      ]
     },
     "metadata": {},
     "execution_count": 5
    }
   ],
   "source": [
    "#변수 기본\n",
    "n=1\n",
    "name ='Park'\n",
    "n=n+2\n",
    "value=1.2*n\n",
    "\n",
    "print('{0} = 1.2*{1}'.format(value,n))\n",
    "print(name)\n",
    "\n",
    "#문자열 배열(방식)\n",
    "greeting='Hello World'\n",
    "#print(greeting[0]) #H\n",
    "#print(greeting[2:7]) #llo\n",
    "(greeting[:2]) #l\n",
    "(greeting[-2:]) #ld\n",
    "(greeting*2)"
   ]
  },
  {
   "cell_type": "code",
   "execution_count": null,
   "metadata": {},
   "outputs": [],
   "source": []
  }
 ]
}